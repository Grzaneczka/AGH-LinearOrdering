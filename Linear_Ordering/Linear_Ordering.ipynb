{
 "cells": [
  {
   "cell_type": "markdown",
   "metadata": {},
   "source": [
    "# Porządkowanie liniowe "
   ]
  },
  {
   "cell_type": "markdown",
   "metadata": {},
   "source": [
    "Import potrzebnych bibliotek"
   ]
  },
  {
   "cell_type": "code",
   "execution_count": 1,
   "metadata": {},
   "outputs": [],
   "source": [
    "import math\n",
    "import numpy as np\n",
    "import pandas as p\n",
    "from sklearn.preprocessing import scale"
   ]
  },
  {
   "cell_type": "markdown",
   "metadata": {},
   "source": [
    "---"
   ]
  },
  {
   "cell_type": "markdown",
   "metadata": {},
   "source": [
    "### Wagi "
   ]
  },
  {
   "cell_type": "markdown",
   "metadata": {},
   "source": [
    "System wag to wektor $$ w = {w_1, w_2, .. w_n} $$ \n",
    "\n",
    "który spełnia warunki:\n",
    "\n",
    "$$ w_i >= 0 $$ \n",
    "$$ \\sum{w_i} = 1 $$"
   ]
  },
  {
   "cell_type": "code",
   "execution_count": 2,
   "metadata": {},
   "outputs": [],
   "source": [
    "def verify_weights(weights):\n",
    "    if sum(weights.values()) != 1:\n",
    "        raise ValueError('Weights has to sum to 1')\n",
    "    if any(w<0 for w in weights.values()):\n",
    "        raise ValueError('Weights have to non negative')\n",
    "    return True"
   ]
  },
  {
   "cell_type": "markdown",
   "metadata": {},
   "source": [
    "---"
   ]
  },
  {
   "cell_type": "markdown",
   "metadata": {},
   "source": [
    "### Zamiana nominanty i destymulanty na stymulantę"
   ]
  },
  {
   "cell_type": "markdown",
   "metadata": {},
   "source": [
    "$$ symulanta = dystymulnta * -1 $$"
   ]
  },
  {
   "cell_type": "markdown",
   "metadata": {},
   "source": [
    "![](Nom.png)"
   ]
  },
  {
   "cell_type": "code",
   "execution_count": 3,
   "metadata": {},
   "outputs": [],
   "source": [
    "def nominant_to_stimulant(N):\n",
    "    \n",
    "    def calculate(x):\n",
    "        if x > N:\n",
    "            return 1 / (x-N+1)\n",
    "        if x < N:\n",
    "            return -1 / (x-N-1)\n",
    "        return 1\n",
    "    \n",
    "    return calculate\n",
    "\n",
    "def change_to_stimulants(df, columns):\n",
    "    df = df.copy()\n",
    "    \n",
    "    for col in df:\n",
    "        if columns[col] == 'min':\n",
    "            df[col] = df[col].apply(lambda x: x*-1)          \n",
    "        elif columns[col] == 'max':\n",
    "            pass \n",
    "        elif isinstance(columns[col], float):\n",
    "            df[col] = df[col].apply(nominant_to_stimulant(columns[col]))\n",
    "        else:\n",
    "            raise ValueError('Column type has to be \"min\" or \"max\" or float')\n",
    "    \n",
    "    return df"
   ]
  },
  {
   "cell_type": "markdown",
   "metadata": {},
   "source": [
    "---"
   ]
  },
  {
   "cell_type": "markdown",
   "metadata": {},
   "source": [
    "## Metoda sum rang "
   ]
  },
  {
   "cell_type": "markdown",
   "metadata": {},
   "source": [
    "![](Sum_of_ranks.jpg)"
   ]
  },
  {
   "cell_type": "markdown",
   "metadata": {},
   "source": [
    "1) Zamiana nominanty i dystymulanty na stymulanty"
   ]
  },
  {
   "cell_type": "markdown",
   "metadata": {},
   "source": [
    "2) Rangujemy obserwacje dla każdej zmiennej"
   ]
  },
  {
   "cell_type": "code",
   "execution_count": 4,
   "metadata": {},
   "outputs": [],
   "source": [
    "def generate_ranks(df):\n",
    "    df = df.copy()\n",
    "    \n",
    "    for col in df:\n",
    "        df[col] = df[col].rank(na_option='bottom', ascending=False)\n",
    "        \n",
    "    return df"
   ]
  },
  {
   "cell_type": "markdown",
   "metadata": {},
   "source": [
    "3) Wyliczamy miernik syntetyczny - średnia ważona rang"
   ]
  },
  {
   "cell_type": "code",
   "execution_count": 5,
   "metadata": {},
   "outputs": [],
   "source": [
    "def calculate_weighted_average(df, weights = None):\n",
    "    df = df.copy()\n",
    "    \n",
    "    if weights is None:\n",
    "        weights = {col: 1/len(df.columns) for col in df}\n",
    "    \n",
    "    for col in df:\n",
    "        df[col] = df[col].apply(lambda x: x*weights[col])\n",
    "        \n",
    "    return df.sum(axis=1)"
   ]
  },
  {
   "cell_type": "markdown",
   "metadata": {},
   "source": [
    "4) Pełna funkcja - Metody sum rang "
   ]
  },
  {
   "cell_type": "code",
   "execution_count": 6,
   "metadata": {},
   "outputs": [],
   "source": [
    "def sum_of_ranks(df, columns, weights):\n",
    "    \n",
    "    # 1.\n",
    "    df_stimulants = change_to_stimulants(df, columns)\n",
    "    \n",
    "    # 2.\n",
    "    df_ranks = generate_ranks(df_stimulants)\n",
    "    \n",
    "    # 3.\n",
    "    indicators = calculate_weighted_average(df_ranks, weights)\n",
    "    \n",
    "    return indicators.sort_values(ascending=True).rename('Sum of ranks')"
   ]
  },
  {
   "cell_type": "markdown",
   "metadata": {},
   "source": [
    "---"
   ]
  },
  {
   "cell_type": "markdown",
   "metadata": {},
   "source": [
    "## Mrtoda standaryzowanych sum"
   ]
  },
  {
   "cell_type": "markdown",
   "metadata": {},
   "source": [
    "![](Standardized_sum_method.jpg)"
   ]
  },
  {
   "cell_type": "markdown",
   "metadata": {},
   "source": [
    "1) Zamiana nominaty i destymulanty na stymulantę - istniejąca funkcja change_to_stimulants"
   ]
  },
  {
   "cell_type": "markdown",
   "metadata": {},
   "source": [
    "2) Standaryzacja wszystkich danych "
   ]
  },
  {
   "cell_type": "code",
   "execution_count": 7,
   "metadata": {},
   "outputs": [],
   "source": [
    "def standardize(df):\n",
    "    df_scaled = p.DataFrame(scale(df), index=df.index, columns=df.columns)\n",
    "    return df_scaled"
   ]
  },
  {
   "cell_type": "markdown",
   "metadata": {},
   "source": [
    "3) Sumujemy oszacowania uzyskane w ramach obiktów - średnia ważona - istniejąca funkcja calculate_weighted_average"
   ]
  },
  {
   "cell_type": "markdown",
   "metadata": {},
   "source": [
    "4) Finalna standaryzacja uzyskanych wartości według wzoru "
   ]
  },
  {
   "cell_type": "markdown",
   "metadata": {},
   "source": [
    "$$ s_i = \\frac{ s_i - min(s) }{ max\\{ s_i - min(s) \\} } $$"
   ]
  },
  {
   "cell_type": "code",
   "execution_count": 8,
   "metadata": {},
   "outputs": [],
   "source": [
    "def final_standardize(df_weights):\n",
    "    df_weights = df_weights.copy()\n",
    "    \n",
    "    minimum = min(df_weights)\n",
    "    maximum = max(df_weights.apply(lambda x: x-minimum))\n",
    "    \n",
    "    return df_weights.apply(lambda x: (x - minimum) / maximum)"
   ]
  },
  {
   "cell_type": "markdown",
   "metadata": {},
   "source": [
    "5) Pełna Funkcja metody standaryzacji sum"
   ]
  },
  {
   "cell_type": "code",
   "execution_count": 9,
   "metadata": {},
   "outputs": [],
   "source": [
    "def standardized_sums(df, columns, weights):\n",
    "    \n",
    "    # 1.\n",
    "    df_stimulants = change_to_stimulants(df, columns)\n",
    "    \n",
    "    # 2.\n",
    "    df_standardized = standardize(df_stimulants)\n",
    "    \n",
    "    # 3.\n",
    "    df_weights = calculate_weighted_average(df_standardized, weights)\n",
    "    \n",
    "    # 4.\n",
    "    indicators = final_standardize(df_weights)\n",
    "    \n",
    "    return indicators.sort_values(ascending=False).rename('Standardized sums')"
   ]
  },
  {
   "cell_type": "markdown",
   "metadata": {},
   "source": [
    "## Metoda Hellwiga "
   ]
  },
  {
   "cell_type": "markdown",
   "metadata": {},
   "source": [
    "1) Zamina nominanty i destymulany na stymulanty"
   ]
  },
  {
   "cell_type": "markdown",
   "metadata": {},
   "source": [
    "2) Standaryzacja wszytskich danych - funkcja standardize"
   ]
  },
  {
   "cell_type": "markdown",
   "metadata": {},
   "source": [
    "3.1) Uwzględnienie wag"
   ]
  },
  {
   "cell_type": "code",
   "execution_count": 10,
   "metadata": {},
   "outputs": [],
   "source": [
    "def apply_weights(df, weights):\n",
    "    df = df.copy()\n",
    "    \n",
    "    for col in df:\n",
    "        df[col] *= weights[col]\n",
    "    \n",
    "    return df"
   ]
  },
  {
   "cell_type": "markdown",
   "metadata": {},
   "source": [
    "3.2) Wyznaczanie wzorca  "
   ]
  },
  {
   "cell_type": "code",
   "execution_count": 11,
   "metadata": {},
   "outputs": [],
   "source": [
    "def calculate_pattern(df):\n",
    "    return df.max()"
   ]
  },
  {
   "cell_type": "markdown",
   "metadata": {},
   "source": [
    "4) Wyznaczanie odległości od wzorca "
   ]
  },
  {
   "cell_type": "markdown",
   "metadata": {},
   "source": [
    "$$ d_i = \\sqrt{\\sum_i{(x_{ij}-d_j)^2}} $$"
   ]
  },
  {
   "cell_type": "code",
   "execution_count": 12,
   "metadata": {},
   "outputs": [],
   "source": [
    "def calculate_distances(df, pattern):\n",
    "    return ((df - pattern) ** 2).sum(axis=1) ** (1/2)"
   ]
  },
  {
   "cell_type": "markdown",
   "metadata": {},
   "source": [
    "5) Wyznaczenie maxymalniej odległości od wzorca "
   ]
  },
  {
   "cell_type": "code",
   "execution_count": 13,
   "metadata": {},
   "outputs": [],
   "source": [
    "def calculate_max_distance(distances):\n",
    "    return np.mean(distances) + 2 * np.std(distances)"
   ]
  },
  {
   "cell_type": "markdown",
   "metadata": {},
   "source": [
    "6) Wyliczanie wartości miary dla obiektu "
   ]
  },
  {
   "cell_type": "code",
   "execution_count": 14,
   "metadata": {},
   "outputs": [],
   "source": [
    "def calculate_hellwig(df, columns, weights):\n",
    "    \n",
    "    # 1.\n",
    "    df_stimulants = change_to_stimulants(df, columns)\n",
    "    \n",
    "    # 2.\n",
    "    df_standalized = standardize(df_stimulants)\n",
    "    \n",
    "    # 3.1.\n",
    "    df_weighted = apply_weights(df_standalized, weights)\n",
    "    \n",
    "    # 3.2.\n",
    "    pattern = calculate_pattern(df_weighted)\n",
    "    \n",
    "    # 4.\n",
    "    distances = calculate_distances(df_weighted, pattern)\n",
    "    \n",
    "    # 5.\n",
    "    max_distance = calculate_max_distance(distances)\n",
    "    \n",
    "    indicators = 1 - distances/max_distance\n",
    "    \n",
    "    return indicators.sort_values(ascending=False).rename('Hellwig')"
   ]
  },
  {
   "cell_type": "markdown",
   "metadata": {},
   "source": [
    "---"
   ]
  },
  {
   "cell_type": "markdown",
   "metadata": {},
   "source": [
    "## Metoda TOPSIS"
   ]
  },
  {
   "cell_type": "markdown",
   "metadata": {},
   "source": [
    "1) Zamina nominanty i destymulany na stymulanty"
   ]
  },
  {
   "cell_type": "markdown",
   "metadata": {},
   "source": [
    "2) Normalizacja danych oraz wartości nominat "
   ]
  },
  {
   "cell_type": "markdown",
   "metadata": {},
   "source": [
    "$$ z_{ij} = \\frac{ x_{ij} }{ \\sqrt{ \\sum_{i=1}^{m}{x_{ij}^2} } } $$"
   ]
  },
  {
   "cell_type": "code",
   "execution_count": 15,
   "metadata": {},
   "outputs": [],
   "source": [
    "def normalize(df):\n",
    "    df = df.copy()\n",
    "    \n",
    "    for col in df:\n",
    "        divisor = (sum(df[col] ** 2)) ** (1/2)\n",
    "        df[col] /= divisor\n",
    "        \n",
    "    return df"
   ]
  },
  {
   "cell_type": "markdown",
   "metadata": {},
   "source": [
    "3) Uwzględnienie wag"
   ]
  },
  {
   "cell_type": "markdown",
   "metadata": {},
   "source": [
    "4) Wyznaczenie wzorca i antywzorca"
   ]
  },
  {
   "cell_type": "code",
   "execution_count": 16,
   "metadata": {},
   "outputs": [],
   "source": [
    "def calculate_antipattern(df):\n",
    "    return df.min()"
   ]
  },
  {
   "cell_type": "markdown",
   "metadata": {},
   "source": [
    "5) Wyliczenie odległości od wzorca i antywzorca"
   ]
  },
  {
   "cell_type": "markdown",
   "metadata": {},
   "source": [
    "6) Wyznaczenie współczynnika rangowego\n",
    "$$ R_i = \\frac{d_i^-}{d_i^- + d_i^+} $$"
   ]
  },
  {
   "cell_type": "code",
   "execution_count": 17,
   "metadata": {},
   "outputs": [],
   "source": [
    "def calculate_rank_coefficient(distance_pattern, distance_antipattern):\n",
    "    return distance_antipattern / (distance_antipattern + distance_pattern)"
   ]
  },
  {
   "cell_type": "code",
   "execution_count": 18,
   "metadata": {},
   "outputs": [],
   "source": [
    "def calculate_TOPSIS(df, columns, weights):\n",
    "    \n",
    "    # 1.\n",
    "    df_stimulants = change_to_stimulants(df, columns)\n",
    "    \n",
    "    # 2.\n",
    "    df_normalized = normalize(df_stimulants)\n",
    "    \n",
    "    # 3.\n",
    "    df_weighted = apply_weights(df_normalized, weights)\n",
    "    \n",
    "    # 4.\n",
    "    pattern = calculate_pattern(df_weighted)\n",
    "    antipattern = calculate_antipattern(df_weighted)\n",
    "    \n",
    "    # 5.\n",
    "    distances_pattern = calculate_distances(df_weighted, pattern)\n",
    "    distances_antipattern = calculate_distances(df_weighted, antipattern)\n",
    "    \n",
    "    # 6.\n",
    "    indicators = calculate_rank_coefficient(distances_pattern, distances_antipattern)\n",
    "    \n",
    "    return indicators.sort_values(ascending=False).rename('TOPSIS')"
   ]
  },
  {
   "cell_type": "markdown",
   "metadata": {},
   "source": [
    "---"
   ]
  },
  {
   "cell_type": "markdown",
   "metadata": {},
   "source": [
    "# Przykłady "
   ]
  },
  {
   "cell_type": "code",
   "execution_count": 19,
   "metadata": {},
   "outputs": [],
   "source": [
    "columns = {\n",
    "    'Zawartość alk.': 6.0, \n",
    "    'Cena': 'min', \n",
    "    'Dostępność': 'max', \n",
    "    'Znajomość': 'max', \n",
    "    'Preferencje': 'max'\n",
    "}\n",
    "\n",
    "df = p.read_csv(\"beer.csv\", sep=';', index_col=0)\n",
    "\n",
    "weights = {\n",
    "    'Zawartość alk.': 0.2 , \n",
    "    'Cena': 0.2, \n",
    "    'Dostępność': 0.2, \n",
    "    'Znajomość': 0.2, \n",
    "    'Preferencje': 0.2}"
   ]
  },
  {
   "cell_type": "code",
   "execution_count": 20,
   "metadata": {},
   "outputs": [
    {
     "data": {
      "text/plain": [
       "Marka\n",
       "Tyskie           5.2\n",
       "Kasztelan        5.9\n",
       "Zywiec           6.0\n",
       "Perła            6.7\n",
       "Harnas           6.8\n",
       "Żubr             8.0\n",
       "Warka            8.5\n",
       "Lech             8.6\n",
       "Carlsberg        8.6\n",
       "Desperados       9.9\n",
       "Heineken        10.0\n",
       "Tatra Pils      10.5\n",
       "Łomża           11.9\n",
       "Specjal         13.1\n",
       "Okocim mocne    13.8\n",
       "Redds           14.3\n",
       "Wojak           14.7\n",
       "Somersby        15.2\n",
       "Tatra mocne     15.9\n",
       "Debowe mocne    16.4\n",
       "Name: Sum of ranks, dtype: float64"
      ]
     },
     "execution_count": 20,
     "metadata": {},
     "output_type": "execute_result"
    }
   ],
   "source": [
    "sum_of_ranks(df, columns, weights)"
   ]
  },
  {
   "cell_type": "code",
   "execution_count": 21,
   "metadata": {},
   "outputs": [
    {
     "data": {
      "text/plain": [
       "Marka\n",
       "Zywiec          1.000000\n",
       "Kasztelan       0.945604\n",
       "Perła           0.864830\n",
       "Tyskie          0.846348\n",
       "Harnas          0.819757\n",
       "Żubr            0.739338\n",
       "Carlsberg       0.715129\n",
       "Warka           0.627205\n",
       "Lech            0.618597\n",
       "Łomża           0.559007\n",
       "Tatra Pils      0.554094\n",
       "Desperados      0.528954\n",
       "Heineken        0.433429\n",
       "Okocim mocne    0.392488\n",
       "Redds           0.199985\n",
       "Tatra mocne     0.175540\n",
       "Debowe mocne    0.140617\n",
       "Somersby        0.115532\n",
       "Wojak           0.110556\n",
       "Specjal         0.000000\n",
       "Name: Standardized sums, dtype: float64"
      ]
     },
     "execution_count": 21,
     "metadata": {},
     "output_type": "execute_result"
    }
   ],
   "source": [
    "standardized_sums(df, columns, weights)"
   ]
  },
  {
   "cell_type": "code",
   "execution_count": 22,
   "metadata": {},
   "outputs": [
    {
     "data": {
      "text/plain": [
       "Marka\n",
       "Kasztelan       0.768087\n",
       "Zywiec          0.719130\n",
       "Perła           0.677431\n",
       "Tyskie          0.628033\n",
       "Harnas          0.546528\n",
       "Żubr            0.499118\n",
       "Warka           0.492610\n",
       "Lech            0.463128\n",
       "Carlsberg       0.452628\n",
       "Łomża           0.420213\n",
       "Heineken        0.358702\n",
       "Okocim mocne    0.353301\n",
       "Tatra Pils      0.338975\n",
       "Desperados      0.310622\n",
       "Redds           0.245092\n",
       "Tatra mocne     0.217864\n",
       "Debowe mocne    0.206264\n",
       "Somersby        0.204260\n",
       "Wojak           0.139016\n",
       "Specjal        -0.017852\n",
       "Name: Hellwig, dtype: float64"
      ]
     },
     "execution_count": 22,
     "metadata": {},
     "output_type": "execute_result"
    }
   ],
   "source": [
    "calculate_hellwig(df, columns, weights)"
   ]
  },
  {
   "cell_type": "code",
   "execution_count": 23,
   "metadata": {},
   "outputs": [
    {
     "data": {
      "text/plain": [
       "Marka\n",
       "Zywiec          0.836912\n",
       "Kasztelan       0.800064\n",
       "Perła           0.669891\n",
       "Tyskie          0.628023\n",
       "Harnas          0.543614\n",
       "Carlsberg       0.502245\n",
       "Lech            0.501382\n",
       "Żubr            0.491145\n",
       "Desperados      0.486037\n",
       "Warka           0.478746\n",
       "Heineken        0.471256\n",
       "Tatra Pils      0.437687\n",
       "Łomża           0.437408\n",
       "Redds           0.393043\n",
       "Okocim mocne    0.390117\n",
       "Somersby        0.374240\n",
       "Tatra mocne     0.302149\n",
       "Specjal         0.296703\n",
       "Debowe mocne    0.295903\n",
       "Wojak           0.265948\n",
       "Name: TOPSIS, dtype: float64"
      ]
     },
     "execution_count": 23,
     "metadata": {},
     "output_type": "execute_result"
    }
   ],
   "source": [
    "calculate_TOPSIS(df, columns, weights)"
   ]
  },
  {
   "cell_type": "markdown",
   "metadata": {},
   "source": [
    "## Podsumowanie"
   ]
  },
  {
   "cell_type": "code",
   "execution_count": 41,
   "metadata": {},
   "outputs": [],
   "source": [
    "def enumerate_series(series):\n",
    "    for i, label in enumerate(series.index):\n",
    "        series[label] = i+1\n",
    "    return series.astype('int32')"
   ]
  },
  {
   "cell_type": "code",
   "execution_count": 52,
   "metadata": {},
   "outputs": [
    {
     "data": {
      "text/html": [
       "<div>\n",
       "<style scoped>\n",
       "    .dataframe tbody tr th:only-of-type {\n",
       "        vertical-align: middle;\n",
       "    }\n",
       "\n",
       "    .dataframe tbody tr th {\n",
       "        vertical-align: top;\n",
       "    }\n",
       "\n",
       "    .dataframe thead th {\n",
       "        text-align: right;\n",
       "    }\n",
       "</style>\n",
       "<table border=\"1\" class=\"dataframe\">\n",
       "  <thead>\n",
       "    <tr style=\"text-align: right;\">\n",
       "      <th></th>\n",
       "      <th>Sum of ranks</th>\n",
       "      <th>Standardized sums</th>\n",
       "      <th>Hellwig</th>\n",
       "      <th>TOPSIS</th>\n",
       "      <th>SUM</th>\n",
       "    </tr>\n",
       "    <tr>\n",
       "      <th>Marka</th>\n",
       "      <th></th>\n",
       "      <th></th>\n",
       "      <th></th>\n",
       "      <th></th>\n",
       "      <th></th>\n",
       "    </tr>\n",
       "  </thead>\n",
       "  <tbody>\n",
       "    <tr>\n",
       "      <th>Zywiec</th>\n",
       "      <td>3</td>\n",
       "      <td>1</td>\n",
       "      <td>2</td>\n",
       "      <td>1</td>\n",
       "      <td>7</td>\n",
       "    </tr>\n",
       "    <tr>\n",
       "      <th>Kasztelan</th>\n",
       "      <td>2</td>\n",
       "      <td>2</td>\n",
       "      <td>1</td>\n",
       "      <td>2</td>\n",
       "      <td>7</td>\n",
       "    </tr>\n",
       "    <tr>\n",
       "      <th>Tyskie</th>\n",
       "      <td>1</td>\n",
       "      <td>4</td>\n",
       "      <td>4</td>\n",
       "      <td>4</td>\n",
       "      <td>13</td>\n",
       "    </tr>\n",
       "    <tr>\n",
       "      <th>Perła</th>\n",
       "      <td>4</td>\n",
       "      <td>3</td>\n",
       "      <td>3</td>\n",
       "      <td>3</td>\n",
       "      <td>13</td>\n",
       "    </tr>\n",
       "    <tr>\n",
       "      <th>Harnas</th>\n",
       "      <td>5</td>\n",
       "      <td>5</td>\n",
       "      <td>5</td>\n",
       "      <td>5</td>\n",
       "      <td>20</td>\n",
       "    </tr>\n",
       "    <tr>\n",
       "      <th>Żubr</th>\n",
       "      <td>6</td>\n",
       "      <td>6</td>\n",
       "      <td>6</td>\n",
       "      <td>8</td>\n",
       "      <td>26</td>\n",
       "    </tr>\n",
       "    <tr>\n",
       "      <th>Carlsberg</th>\n",
       "      <td>9</td>\n",
       "      <td>7</td>\n",
       "      <td>9</td>\n",
       "      <td>6</td>\n",
       "      <td>31</td>\n",
       "    </tr>\n",
       "    <tr>\n",
       "      <th>Warka</th>\n",
       "      <td>7</td>\n",
       "      <td>8</td>\n",
       "      <td>7</td>\n",
       "      <td>10</td>\n",
       "      <td>32</td>\n",
       "    </tr>\n",
       "    <tr>\n",
       "      <th>Lech</th>\n",
       "      <td>8</td>\n",
       "      <td>9</td>\n",
       "      <td>8</td>\n",
       "      <td>7</td>\n",
       "      <td>32</td>\n",
       "    </tr>\n",
       "    <tr>\n",
       "      <th>Desperados</th>\n",
       "      <td>10</td>\n",
       "      <td>12</td>\n",
       "      <td>14</td>\n",
       "      <td>9</td>\n",
       "      <td>45</td>\n",
       "    </tr>\n",
       "    <tr>\n",
       "      <th>Heineken</th>\n",
       "      <td>11</td>\n",
       "      <td>13</td>\n",
       "      <td>11</td>\n",
       "      <td>11</td>\n",
       "      <td>46</td>\n",
       "    </tr>\n",
       "    <tr>\n",
       "      <th>Łomża</th>\n",
       "      <td>13</td>\n",
       "      <td>10</td>\n",
       "      <td>10</td>\n",
       "      <td>13</td>\n",
       "      <td>46</td>\n",
       "    </tr>\n",
       "    <tr>\n",
       "      <th>Tatra Pils</th>\n",
       "      <td>12</td>\n",
       "      <td>11</td>\n",
       "      <td>13</td>\n",
       "      <td>12</td>\n",
       "      <td>48</td>\n",
       "    </tr>\n",
       "    <tr>\n",
       "      <th>Okocim mocne</th>\n",
       "      <td>15</td>\n",
       "      <td>14</td>\n",
       "      <td>12</td>\n",
       "      <td>15</td>\n",
       "      <td>56</td>\n",
       "    </tr>\n",
       "    <tr>\n",
       "      <th>Redds</th>\n",
       "      <td>16</td>\n",
       "      <td>15</td>\n",
       "      <td>15</td>\n",
       "      <td>14</td>\n",
       "      <td>60</td>\n",
       "    </tr>\n",
       "    <tr>\n",
       "      <th>Tatra mocne</th>\n",
       "      <td>19</td>\n",
       "      <td>16</td>\n",
       "      <td>16</td>\n",
       "      <td>17</td>\n",
       "      <td>68</td>\n",
       "    </tr>\n",
       "    <tr>\n",
       "      <th>Somersby</th>\n",
       "      <td>18</td>\n",
       "      <td>18</td>\n",
       "      <td>18</td>\n",
       "      <td>16</td>\n",
       "      <td>70</td>\n",
       "    </tr>\n",
       "    <tr>\n",
       "      <th>Specjal</th>\n",
       "      <td>14</td>\n",
       "      <td>20</td>\n",
       "      <td>20</td>\n",
       "      <td>18</td>\n",
       "      <td>72</td>\n",
       "    </tr>\n",
       "    <tr>\n",
       "      <th>Debowe mocne</th>\n",
       "      <td>20</td>\n",
       "      <td>17</td>\n",
       "      <td>17</td>\n",
       "      <td>19</td>\n",
       "      <td>73</td>\n",
       "    </tr>\n",
       "    <tr>\n",
       "      <th>Wojak</th>\n",
       "      <td>17</td>\n",
       "      <td>19</td>\n",
       "      <td>19</td>\n",
       "      <td>20</td>\n",
       "      <td>75</td>\n",
       "    </tr>\n",
       "  </tbody>\n",
       "</table>\n",
       "</div>"
      ],
      "text/plain": [
       "              Sum of ranks  Standardized sums  Hellwig  TOPSIS  SUM\n",
       "Marka                                                              \n",
       "Zywiec                   3                  1        2       1    7\n",
       "Kasztelan                2                  2        1       2    7\n",
       "Tyskie                   1                  4        4       4   13\n",
       "Perła                    4                  3        3       3   13\n",
       "Harnas                   5                  5        5       5   20\n",
       "Żubr                     6                  6        6       8   26\n",
       "Carlsberg                9                  7        9       6   31\n",
       "Warka                    7                  8        7      10   32\n",
       "Lech                     8                  9        8       7   32\n",
       "Desperados              10                 12       14       9   45\n",
       "Heineken                11                 13       11      11   46\n",
       "Łomża                   13                 10       10      13   46\n",
       "Tatra Pils              12                 11       13      12   48\n",
       "Okocim mocne            15                 14       12      15   56\n",
       "Redds                   16                 15       15      14   60\n",
       "Tatra mocne             19                 16       16      17   68\n",
       "Somersby                18                 18       18      16   70\n",
       "Specjal                 14                 20       20      18   72\n",
       "Debowe mocne            20                 17       17      19   73\n",
       "Wojak                   17                 19       19      20   75"
      ]
     },
     "execution_count": 52,
     "metadata": {},
     "output_type": "execute_result"
    }
   ],
   "source": [
    "methods = [sum_of_ranks, standardized_sums, calculate_hellwig, calculate_TOPSIS]\n",
    "names = [f.__name__ for f in methods]\n",
    "\n",
    "df_summary = p.DataFrame(index=df.index)\n",
    "\n",
    "for f in methods:\n",
    "    df_summary = df_summary.merge(enumerate_series(f(df, columns, weights)), left_index=True, right_index=True)\n",
    "\n",
    "df_summary['SUM'] = df_summary.sum(axis=1)\n",
    "\n",
    "df_summary.sort_values(by='SUM')"
   ]
  },
  {
   "cell_type": "code",
   "execution_count": null,
   "metadata": {},
   "outputs": [],
   "source": []
  }
 ],
 "metadata": {
  "kernelspec": {
   "display_name": "Python 3",
   "language": "python",
   "name": "python3"
  },
  "language_info": {
   "codemirror_mode": {
    "name": "ipython",
    "version": 3
   },
   "file_extension": ".py",
   "mimetype": "text/x-python",
   "name": "python",
   "nbconvert_exporter": "python",
   "pygments_lexer": "ipython3",
   "version": "3.7.3"
  }
 },
 "nbformat": 4,
 "nbformat_minor": 2
}
